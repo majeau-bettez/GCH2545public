{
 "cells": [
  {
   "cell_type": "markdown",
   "metadata": {},
   "source": [
    "## Démonstration en classe de la quadrature de Gauss-Legendre\n",
    "### Quadrature en deux points"
   ]
  },
  {
   "cell_type": "code",
   "execution_count": 38,
   "metadata": {},
   "outputs": [],
   "source": [
    "import numpy as np\n",
    "\n",
    "# paramètres pour la quadrature Gauss-Legendre à deux points\n",
    "w = np.zeros(2)\n",
    "t = np.zeros(2)\n",
    "w[0] = 1.0\n",
    "w[1] = 1.0\n",
    "t[0] = -np.sqrt(1/3)\n",
    "t[1] = -t[0]\n",
    "\n",
    "# Bornes d'intégration - À définir/changer par l'utilisateur\n",
    "a = 0\n",
    "b = 1\n",
    "\n",
    "# Pas d'intégration (pour l'intégration par trapèze pour comparaison)\n",
    "n = int(1e6)   # nombre de points de données \n",
    "N = n - 1  # nombre d'intervalles"
   ]
  },
  {
   "cell_type": "code",
   "execution_count": 39,
   "metadata": {},
   "outputs": [],
   "source": [
    "# Polynome à intégrer - À définir/changer par l'utilisateur\n",
    "f = lambda x: 3 * x**3 + x**2 - x + 9"
   ]
  },
  {
   "cell_type": "code",
   "execution_count": 40,
   "metadata": {},
   "outputs": [],
   "source": [
    "# Changement de bornes\n",
    "g = lambda t: f(((b-a) * t + b + a)/2) * (b - a) / 2"
   ]
  },
  {
   "cell_type": "code",
   "execution_count": 41,
   "metadata": {},
   "outputs": [
    {
     "name": "stdout",
     "output_type": "stream",
     "text": [
      "Intégration par trapèzes: 9.583333333334249\n"
     ]
    }
   ],
   "source": [
    "# Intégration par trapèzes de la fonction f(x) entre a et b\n",
    "x = np.linspace(a, b, n)\n",
    "I_trap = np.trapz(f(x), x)\n",
    "print(f\"Intégration par trapèzes: {I_trap}\")"
   ]
  },
  {
   "cell_type": "code",
   "execution_count": 42,
   "metadata": {},
   "outputs": [
    {
     "name": "stdout",
     "output_type": "stream",
     "text": [
      "Intégration par Gauss-Legendre: 9.583333333333332\n"
     ]
    }
   ],
   "source": [
    "# Intégration (de la fonction g(t) entre les bornes -1 et 1) par Gauss-Legendre\n",
    "I_gauss = w[0] * g(t[0]) + w[1] * g(t[1])\n",
    "print(f\"Intégration par Gauss-Legendre: {I_gauss}\")"
   ]
  },
  {
   "cell_type": "code",
   "execution_count": 43,
   "metadata": {},
   "outputs": [
    {
     "name": "stdout",
     "output_type": "stream",
     "text": [
      "WOW! ON a calculé exactement la valeur de cette intégration en faisant simplement la somme de deux produits, plutôt qu'un million de trapèzes.\n"
     ]
    }
   ],
   "source": [
    "if np.allclose(I_trap, I_gauss):\n",
    "    print(\"WOW! ON a calculé exactement la valeur de cette intégration en faisant\"\n",
    "    \" simplement la somme de deux produits, plutôt qu'un million de trapèzes.\")\n",
    "else:\n",
    "    print(\"Bon, on a pas exactement la même intégrale...\"\n",
    "    \" ce doit être parce que ma fonction à intégrer n'est pas un polynôme d'ordre 3 ou moins. Est-ce une bonne approximation?\")"
   ]
  },
  {
   "cell_type": "code",
   "execution_count": null,
   "metadata": {},
   "outputs": [],
   "source": []
  }
 ],
 "metadata": {
  "kernelspec": {
   "display_name": "Python 3.7.10 ('base')",
   "language": "python",
   "name": "python3"
  },
  "language_info": {
   "codemirror_mode": {
    "name": "ipython",
    "version": 3
   },
   "file_extension": ".py",
   "mimetype": "text/x-python",
   "name": "python",
   "nbconvert_exporter": "python",
   "pygments_lexer": "ipython3",
   "version": "3.7.10"
  },
  "orig_nbformat": 4,
  "vscode": {
   "interpreter": {
    "hash": "e0f48c8e432fbe41439af2f3425e2757429f6552f08671b58b63738efb6b6f3c"
   }
  }
 },
 "nbformat": 4,
 "nbformat_minor": 2
}
